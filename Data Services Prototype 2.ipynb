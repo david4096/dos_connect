{
 "cells": [
  {
   "cell_type": "markdown",
   "metadata": {},
   "source": [
    "# DRS Data Services\n",
    "\n",
    "At first, the server is empty."
   ]
  },
  {
   "cell_type": "code",
   "execution_count": 2,
   "metadata": {},
   "outputs": [
    {
     "name": "stdout",
     "output_type": "stream",
     "text": [
      "{u'data_objects': []}\n"
     ]
    }
   ],
   "source": [
    "import requests\n",
    "base_url = 'http://localhost:8080/ga4gh/dos/v1'\n",
    "token = \\\n",
    "    \"Bearer ya29.Gly2BqYpWKJ5MSc-I6BHGAOadOofBNt5vreFkr9Kck5fMUa-TiNxWpZ2i_Fl1NCNBtujPoew8XDnyHeSG__ZzyJ7TIxpHBnjzduewaUgeiA8OFrpsDjVGXMxd_xoeQ\"\n",
    "headers = {\"Authorization\": token}\n",
    "\n",
    "data_objects = requests.post('{}/dataobjects/list'.format(base_url), json={\"page_token\": \"\"}, headers=headers).json()\n",
    "print(data_objects)"
   ]
  },
  {
   "cell_type": "markdown",
   "metadata": {},
   "source": [
    "Then interacting with a Data Management Service (or an app in dos_connect) we perform CreateDataObject requests."
   ]
  },
  {
   "cell_type": "code",
   "execution_count": null,
   "metadata": {},
   "outputs": [],
   "source": [
    "\n",
    "!GOOGLE_APPLICATION_CREDENTIALS=/home/david/Downloads/human-cell-atlas-travis-test-0a109931bb95.json python -m dos_connect.apps.inventory.gs_inventory \\\n",
    "    --dos_server http://localhost:8080 \\\n",
    "    --api_key \"$token\" \\\n",
    "    -kn \"Authorization\" \\\n",
    "    org-humancellatlas-dss-checkout-dev"
   ]
  },
  {
   "cell_type": "markdown",
   "metadata": {},
   "source": [
    "Now the Data Objects are registered in DRS."
   ]
  },
  {
   "cell_type": "code",
   "execution_count": 25,
   "metadata": {},
   "outputs": [
    {
     "name": "stdout",
     "output_type": "stream",
     "text": [
      "{u'data_objects': [{u'updated': u'2019-02-19T21:04:29.228000+00:00', u'created': u'2019-02-19T21:04:29.228000+00:00', u'current': True, u'version': u'2019-02-19T14:48:28.676713Z', u'urls': [{u'url': u'https://www.googleapis.com/download/storage/v1/b/org-humancellatlas-dss-checkout-dev/o/blobs%2F0e48fdc80be7d661268c38383f770cfdeaa9978d8670a9231ae9950669811b85.f718753375f4714e748175fc42d3bcd55cbc8fb7.91a9c99105605821f6d88205ff932a65.f8759c6f?generation=1550610269229174&alt=media', u'system_metadata': {u'contentType': u'application/octet-stream', u'event_type': u'ObjectCreated:Put', u'bucket': u'org-humancellatlas-dss-checkout-dev', u'crc32c': u'+HWcbw==', u'etag': u'CPagobLZyOACEAE=', u'location': u'US', u'storageClass': u'MULTI_REGIONAL'}}, {u'url': u'gs://org-humancellatlas-dss-checkout-dev/blobs/0e48fdc80be7d661268c38383f770cfdeaa9978d8670a9231ae9950669811b85.f718753375f4714e748175fc42d3bcd55cbc8fb7.91a9c99105605821f6d88205ff932a65.f8759c6f'}], u'checksums': [{u'checksum': u'CPagobLZyOACEAE=', u'type': u'etag'}, {u'checksum': u'kanJkQVgWCH22IIF/5MqZQ==', u'type': u'md5Hash'}, {u'checksum': u'+HWcbw==', u'type': u'crc32c'}], u'id': u'1f32a554-84c1-4d26-94ef-0ed82472ff01', u'size': u'419'}, {u'updated': u'2019-02-19T21:04:24.345000+00:00', u'created': u'2019-02-19T21:04:24.345000+00:00', u'current': True, u'version': u'2019-02-19T14:48:29.189606Z', u'urls': [{u'url': u'https://www.googleapis.com/download/storage/v1/b/org-humancellatlas-dss-checkout-dev/o/blobs%2F0ea055514a90a3b9f659b160f29d3a75722fd51bc73f39c1be3107d2df4edf8d.7be99c8c9b5b05329f70b159dabe91f0140d95a6.5f888ab720b8e9900e0a4a11310e5ced.d202912e?generation=1550610264345903&alt=media', u'system_metadata': {u'contentType': u'application/octet-stream', u'event_type': u'ObjectCreated:Put', u'bucket': u'org-humancellatlas-dss-checkout-dev', u'crc32c': u'0gKRLg==', u'etag': u'CK+a96/ZyOACEAE=', u'location': u'US', u'storageClass': u'MULTI_REGIONAL'}}, {u'url': u'gs://org-humancellatlas-dss-checkout-dev/blobs/0ea055514a90a3b9f659b160f29d3a75722fd51bc73f39c1be3107d2df4edf8d.7be99c8c9b5b05329f70b159dabe91f0140d95a6.5f888ab720b8e9900e0a4a11310e5ced.d202912e'}], u'checksums': [{u'checksum': u'CK+a96/ZyOACEAE=', u'type': u'etag'}, {u'checksum': u'X4iKtyC46ZAOCkoRMQ5c7Q==', u'type': u'md5Hash'}, {u'checksum': u'0gKRLg==', u'type': u'crc32c'}], u'id': u'383c0538-9008-43e9-9730-a569cdbf757a', u'size': u'498'}, {u'updated': u'2019-02-19T21:04:23.005000+00:00', u'created': u'2019-02-19T21:04:23.005000+00:00', u'current': True, u'version': u'2019-02-19T14:48:23.007404Z', u'urls': [{u'url': u'https://www.googleapis.com/download/storage/v1/b/org-humancellatlas-dss-checkout-dev/o/blobs%2F043a50ba97100017145202802c5dd469a1c503399bad1a27865e355f0c554c51.22800b9bb5e6af88567e6f285451424a65d48be4.0f7b9f99e4619885270ad721e12106cf.ecc1d83b?generation=1550610263005343&alt=media', u'system_metadata': {u'contentType': u'application/octet-stream', u'event_type': u'ObjectCreated:Put', u'bucket': u'org-humancellatlas-dss-checkout-dev', u'crc32c': u'7MHYOw==', u'etag': u'CJ+xpa/ZyOACEAE=', u'location': u'US', u'storageClass': u'MULTI_REGIONAL'}}, {u'url': u'gs://org-humancellatlas-dss-checkout-dev/blobs/043a50ba97100017145202802c5dd469a1c503399bad1a27865e355f0c554c51.22800b9bb5e6af88567e6f285451424a65d48be4.0f7b9f99e4619885270ad721e12106cf.ecc1d83b'}], u'checksums': [{u'checksum': u'CJ+xpa/ZyOACEAE=', u'type': u'etag'}, {u'checksum': u'D3ufmeRhmIUnCtch4SEGzw==', u'type': u'md5Hash'}, {u'checksum': u'7MHYOw==', u'type': u'crc32c'}], u'id': u'5acceed6-af06-4e4b-aebd-5da169e2e979', u'size': u'561'}, {u'updated': u'2019-02-15T22:51:47.287000+00:00', u'created': u'2019-02-15T22:51:47.287000+00:00', u'current': True, u'version': u'2019-02-19T14:48:24.848829Z', u'urls': [{u'url': u'https://www.googleapis.com/download/storage/v1/b/org-humancellatlas-dss-checkout-dev/o/blobs%2F0765ad3a9798ad6fd669deeb64fb7ba92b39b2d123df6efc65515f03bdd945d7.6faaf2a088d41556d5061d877ae30cbd13076e70.ee64c501dbdadabb3bc64915f7c3bc02.df9b9fe2?generation=1550271107287653&alt=media', u'system_metadata': {u'contentType': u'application/octet-stream', u'event_type': u'ObjectCreated:Put', u'bucket': u'org-humancellatlas-dss-checkout-dev', u'crc32c': u'35uf4g==', u'etag': u'COWUn/XpvuACEAE=', u'location': u'US', u'storageClass': u'MULTI_REGIONAL'}}, {u'url': u'gs://org-humancellatlas-dss-checkout-dev/blobs/0765ad3a9798ad6fd669deeb64fb7ba92b39b2d123df6efc65515f03bdd945d7.6faaf2a088d41556d5061d877ae30cbd13076e70.ee64c501dbdadabb3bc64915f7c3bc02.df9b9fe2'}], u'checksums': [{u'checksum': u'COWUn/XpvuACEAE=', u'type': u'etag'}, {u'checksum': u'7mTFAdva2rs7xkkV98O8Ag==', u'type': u'md5Hash'}, {u'checksum': u'35uf4g==', u'type': u'crc32c'}], u'id': u'e602c1dd-71ed-4dc1-8ee6-67b61dc51bff', u'size': u'438'}, {u'updated': u'2019-02-15T01:43:37.538000+00:00', u'created': u'2019-02-15T01:43:37.538000+00:00', u'current': True, u'version': u'2019-02-19T14:48:27.488023Z', u'urls': [{u'url': u'https://www.googleapis.com/download/storage/v1/b/org-humancellatlas-dss-checkout-dev/o/blobs%2F0c50cd7287f61662466af3405ce9df010a61da44834eb476715e48bd81b1bb77.2517ca73ddf061ac27bbd60dcd50c6a276d8168a.f246c1ddc2476d800ea780fed5d9682c.7cc6045f?generation=1550195017538741&alt=media', u'system_metadata': {u'contentType': u'application/octet-stream', u'event_type': u'ObjectCreated:Put', u'bucket': u'org-humancellatlas-dss-checkout-dev', u'crc32c': u'fMYEXw==', u'etag': u'CLW56brOvOACEAE=', u'location': u'US', u'storageClass': u'MULTI_REGIONAL'}}, {u'url': u'gs://org-humancellatlas-dss-checkout-dev/blobs/0c50cd7287f61662466af3405ce9df010a61da44834eb476715e48bd81b1bb77.2517ca73ddf061ac27bbd60dcd50c6a276d8168a.f246c1ddc2476d800ea780fed5d9682c.7cc6045f'}], u'checksums': [{u'checksum': u'CLW56brOvOACEAE=', u'type': u'etag'}, {u'checksum': u'8kbB3cJHbYAOp4D+1dloLA==', u'type': u'md5Hash'}, {u'checksum': u'fMYEXw==', u'type': u'crc32c'}], u'id': u'c81870f5-f8be-425e-8eab-0d6952ebce27', u'size': u'438'}, {u'updated': u'2019-02-01T03:06:36.456000+00:00', u'created': u'2019-02-01T03:06:36.456000+00:00', u'current': True, u'version': u'2019-02-19T14:48:28.129941Z', u'urls': [{u'url': u'https://www.googleapis.com/download/storage/v1/b/org-humancellatlas-dss-checkout-dev/o/blobs%2F0d88986db024364e38347d894eda0dce9f5f7d74a1d2d72bc3012bc0367525fb.cde8983a234df53d50156c0c2b3fb120a65aeccd.b182ba7fa47b86bd1d14c2bcb8281757.1e995af3?generation=1548990396456925&alt=media', u'system_metadata': {u'contentType': u'application/octet-stream', u'event_type': u'ObjectCreated:Put', u'bucket': u'org-humancellatlas-dss-checkout-dev', u'crc32c': u'Hpla8w==', u'etag': u'CN2/3fLGmeACEAE=', u'location': u'US', u'storageClass': u'MULTI_REGIONAL'}}, {u'url': u'gs://org-humancellatlas-dss-checkout-dev/blobs/0d88986db024364e38347d894eda0dce9f5f7d74a1d2d72bc3012bc0367525fb.cde8983a234df53d50156c0c2b3fb120a65aeccd.b182ba7fa47b86bd1d14c2bcb8281757.1e995af3'}], u'checksums': [{u'checksum': u'CN2/3fLGmeACEAE=', u'type': u'etag'}, {u'checksum': u'sYK6f6R7hr0dFMK8uCgXVw==', u'type': u'md5Hash'}, {u'checksum': u'Hpla8w==', u'type': u'crc32c'}], u'id': u'8450565c-5a20-420e-a3ee-5fc09032d6fd', u'size': u'438'}, {u'updated': u'2019-02-01T03:05:27.705000+00:00', u'created': u'2019-02-01T03:05:27.705000+00:00', u'current': True, u'version': u'2019-02-19T14:48:26.693484Z', u'urls': [{u'url': u'https://www.googleapis.com/download/storage/v1/b/org-humancellatlas-dss-checkout-dev/o/blobs%2F0bae5db2500819f042de031f210bc10803bde329ebaa3eecd08f09649e51f2c6.5f14076b497f230569220fc3d331d6c3575139f7.c2958643fdef775d322e137a107bb2e8.768f02be?generation=1548990327705350&alt=media', u'system_metadata': {u'contentType': u'application/octet-stream', u'event_type': u'ObjectCreated:Put', u'bucket': u'org-humancellatlas-dss-checkout-dev', u'crc32c': u'do8Cvg==', u'etag': u'CIae+dHGmeACEAE=', u'location': u'US', u'storageClass': u'MULTI_REGIONAL'}}, {u'url': u'gs://org-humancellatlas-dss-checkout-dev/blobs/0bae5db2500819f042de031f210bc10803bde329ebaa3eecd08f09649e51f2c6.5f14076b497f230569220fc3d331d6c3575139f7.c2958643fdef775d322e137a107bb2e8.768f02be'}], u'checksums': [{u'checksum': u'CIae+dHGmeACEAE=', u'type': u'etag'}, {u'checksum': u'wpWGQ/3vd10yLhN6EHuy6A==', u'type': u'md5Hash'}, {u'checksum': u'do8Cvg==', u'type': u'crc32c'}], u'id': u'ebd4ea59-1af2-4f7e-9649-edfec4ab1901', u'size': u'438'}, {u'updated': u'2019-02-01T02:42:06.230000+00:00', u'created': u'2019-02-01T02:42:06.230000+00:00', u'current': True, u'version': u'2019-02-19T14:48:24.238565Z', u'urls': [{u'url': u'https://www.googleapis.com/download/storage/v1/b/org-humancellatlas-dss-checkout-dev/o/blobs%2F054e882ce0c516025d324ae5197405d320098677e754177210f8c0114378a704.8da86f805662516e38c44419bbe46fd8373f505b.7b2e2fa240b1db2640a74c4326003471.5c4bcaa6?generation=1548988926231114&alt=media', u'system_metadata': {u'contentType': u'application/octet-stream', u'event_type': u'ObjectCreated:Put', u'bucket': u'org-humancellatlas-dss-checkout-dev', u'crc32c': u'XEvKpg==', u'etag': u'CMqE1rXBmeACEAE=', u'location': u'US', u'storageClass': u'MULTI_REGIONAL'}}, {u'url': u'gs://org-humancellatlas-dss-checkout-dev/blobs/054e882ce0c516025d324ae5197405d320098677e754177210f8c0114378a704.8da86f805662516e38c44419bbe46fd8373f505b.7b2e2fa240b1db2640a74c4326003471.5c4bcaa6'}], u'checksums': [{u'checksum': u'CMqE1rXBmeACEAE=', u'type': u'etag'}, {u'checksum': u'ey4vokCx2yZAp0xDJgA0cQ==', u'type': u'md5Hash'}, {u'checksum': u'XEvKpg==', u'type': u'crc32c'}], u'id': u'f15ba6ee-0ea4-4ec5-b96b-1e2a58c4ad31', u'size': u'438'}, {u'updated': u'2019-02-01T01:03:26.358000+00:00', u'created': u'2019-02-01T01:03:26.358000+00:00', u'current': True, u'version': u'2019-02-19T14:48:26.062280Z', u'urls': [{u'url': u'https://www.googleapis.com/download/storage/v1/b/org-humancellatlas-dss-checkout-dev/o/blobs%2F0a89187c6336169c5c96a1cbbd942ee4a735ce0aa2580767b78dc067cacff343.a7f13768760752501df4120764a25624492eaa5d.0a58d0ea8ad9889d773e6a72c3d03f29.f12f8d98?generation=1548983006358769&alt=media', u'system_metadata': {u'contentType': u'application/octet-stream', u'event_type': u'ObjectCreated:Put', u'bucket': u'org-humancellatlas-dss-checkout-dev', u'crc32c': u'8S+NmA==', u'etag': u'CPHZ7a6rmeACEAE=', u'location': u'US', u'storageClass': u'MULTI_REGIONAL'}}, {u'url': u'gs://org-humancellatlas-dss-checkout-dev/blobs/0a89187c6336169c5c96a1cbbd942ee4a735ce0aa2580767b78dc067cacff343.a7f13768760752501df4120764a25624492eaa5d.0a58d0ea8ad9889d773e6a72c3d03f29.f12f8d98'}], u'checksums': [{u'checksum': u'CPHZ7a6rmeACEAE=', u'type': u'etag'}, {u'checksum': u'CljQ6orZiJ13Pmpyw9A/KQ==', u'type': u'md5Hash'}, {u'checksum': u'8S+NmA==', u'type': u'crc32c'}], u'id': u'196b7fda-580d-4279-a2d3-bbcd3c272d61', u'size': u'438'}, {u'updated': u'2019-01-30T19:17:02.831000+00:00', u'created': u'2019-01-30T19:17:02.831000+00:00', u'current': True, u'version': u'2019-02-19T14:48:23.618548Z', u'urls': [{u'url': u'https://www.googleapis.com/download/storage/v1/b/org-humancellatlas-dss-checkout-dev/o/blobs%2F04afef80d6c43a4fb4ced4964759e20a469c5635e722ba4444d543777be93517.56a482ce60a88d7f7473b82413a43d9841407f5c.7baf596dea26f9a786b92fb4fe3c94a5-2.5b6099e8?generation=1548875822831834&alt=media', u'system_metadata': {u'contentType': u'application/octet-stream', u'event_type': u'ObjectCreated:Put', u'bucket': u'org-humancellatlas-dss-checkout-dev', u'crc32c': u'W2CZ6A==', u'etag': u'CNqx4omcluACEAE=', u'location': u'US', u'storageClass': u'MULTI_REGIONAL'}}, {u'url': u'gs://org-humancellatlas-dss-checkout-dev/blobs/04afef80d6c43a4fb4ced4964759e20a469c5635e722ba4444d543777be93517.56a482ce60a88d7f7473b82413a43d9841407f5c.7baf596dea26f9a786b92fb4fe3c94a5-2.5b6099e8'}], u'checksums': [{u'checksum': u'CNqx4omcluACEAE=', u'type': u'etag'}, {u'checksum': u'W2CZ6A==', u'type': u'crc32c'}], u'id': u'7b66576e-cda5-456a-817f-f7d6926f0ea4', u'size': u'67108865'}, {u'updated': u'2019-01-24T20:17:59.781000+00:00', u'created': u'2019-01-24T20:17:59.781000+00:00', u'current': True, u'version': u'2019-02-19T14:48:22.294546Z', u'urls': [{u'url': u'https://www.googleapis.com/download/storage/v1/b/org-humancellatlas-dss-checkout-dev/o/blobs%2F039e4cb9c002bb8d5dc949aa8d15d934780915b2d8cb105fc686dc6410dbd667.bdc30fd4d1c04b6a9ce020ff1f551f793d9b23ea.171992534b9924df846c63749da39822.a51edc17?generation=1548361079781899&alt=media', u'system_metadata': {u'contentType': u'application/octet-stream', u'event_type': u'ObjectCreated:Put', u'bucket': u'org-humancellatlas-dss-checkout-dev', u'crc32c': u'pR7cFw==', u'etag': u'CIv0k8Geh+ACEAE=', u'location': u'US', u'storageClass': u'MULTI_REGIONAL'}}, {u'url': u'gs://org-humancellatlas-dss-checkout-dev/blobs/039e4cb9c002bb8d5dc949aa8d15d934780915b2d8cb105fc686dc6410dbd667.bdc30fd4d1c04b6a9ce020ff1f551f793d9b23ea.171992534b9924df846c63749da39822.a51edc17'}], u'checksums': [{u'checksum': u'CIv0k8Geh+ACEAE=', u'type': u'etag'}, {u'checksum': u'FxmSU0uZJN+EbGN0naOYIg==', u'type': u'md5Hash'}, {u'checksum': u'pR7cFw==', u'type': u'crc32c'}], u'id': u'a645a0ae-104a-4e6f-8342-df0af7e4cde0', u'size': u'438'}, {u'updated': u'2019-01-24T20:09:32.799000+00:00', u'created': u'2019-01-24T20:09:32.799000+00:00', u'current': True, u'version': u'2019-02-19T14:48:29.767754Z', u'urls': [{u'url': u'https://www.googleapis.com/download/storage/v1/b/org-humancellatlas-dss-checkout-dev/o/blobs%2F11143a48c76fbd7822201d5853bc3212140e9e45f3226a9516c29940184485bd.18e3d2d336a49c2d57488722013dc2878e4f3cf4.1bcbb40f14df600014b81b5a52921d42.2835c359?generation=1548360572799279&alt=media', u'system_metadata': {u'contentType': u'application/octet-stream', u'event_type': u'ObjectCreated:Put', u'bucket': u'org-humancellatlas-dss-checkout-dev', u'crc32c': u'KDXDWQ==', u'etag': u'CK+StM+ch+ACEAE=', u'location': u'US', u'storageClass': u'MULTI_REGIONAL'}}, {u'url': u'gs://org-humancellatlas-dss-checkout-dev/blobs/11143a48c76fbd7822201d5853bc3212140e9e45f3226a9516c29940184485bd.18e3d2d336a49c2d57488722013dc2878e4f3cf4.1bcbb40f14df600014b81b5a52921d42.2835c359'}], u'checksums': [{u'checksum': u'CK+StM+ch+ACEAE=', u'type': u'etag'}, {u'checksum': u'G8u0DxTfYAAUuBtaUpIdQg==', u'type': u'md5Hash'}, {u'checksum': u'KDXDWQ==', u'type': u'crc32c'}], u'id': u'0e363e2c-2a02-4e30-b339-53557c83396a', u'size': u'438'}, {u'updated': u'2019-01-24T19:32:56.011000+00:00', u'created': u'2019-01-24T19:32:56.011000+00:00', u'current': True, u'version': u'2019-02-19T14:48:25.442213Z', u'urls': [{u'url': u'https://www.googleapis.com/download/storage/v1/b/org-humancellatlas-dss-checkout-dev/o/blobs%2F0813a91f1ec08b40f141dd248452175a595932aa1505e9b17d12af634748b61f.f5f79c03abada86cfe9c9aa0fa70b5216bd3f9f1.c91a9dc0dbb6c9f12b3d45638182d354-2.5ec2b45e?generation=1548358376012124&alt=media', u'system_metadata': {u'contentType': u'application/octet-stream', u'event_type': u'ObjectCreated:Put', u'bucket': u'org-humancellatlas-dss-checkout-dev', u'crc32c': u'XsK0Xg==', u'etag': u'CNzy8reUh+ACEAE=', u'location': u'US', u'storageClass': u'MULTI_REGIONAL'}}, {u'url': u'gs://org-humancellatlas-dss-checkout-dev/blobs/0813a91f1ec08b40f141dd248452175a595932aa1505e9b17d12af634748b61f.f5f79c03abada86cfe9c9aa0fa70b5216bd3f9f1.c91a9dc0dbb6c9f12b3d45638182d354-2.5ec2b45e'}], u'checksums': [{u'checksum': u'CNzy8reUh+ACEAE=', u'type': u'etag'}, {u'checksum': u'XsK0Xg==', u'type': u'crc32c'}], u'id': u'edd75a33-d037-4056-8229-6c11290e1321', u'size': u'67108865'}]}\n"
     ]
    }
   ],
   "source": [
    "data_objects = requests.post(\n",
    "    '{}/dataobjects/list'.format(base_url),\n",
    "    json={\"page_token\": \"\"},\n",
    "    headers=headers).json()\n",
    "print(data_objects)"
   ]
  },
  {
   "cell_type": "markdown",
   "metadata": {},
   "source": [
    "We can access the file using its media URL in Google Cloud."
   ]
  },
  {
   "cell_type": "code",
   "execution_count": 26,
   "metadata": {},
   "outputs": [
    {
     "name": "stdout",
     "output_type": "stream",
     "text": [
      "gs://org-humancellatlas-dss-checkout-dev/blobs/0e48fdc80be7d661268c38383f770cfdeaa9978d8670a9231ae9950669811b85.f718753375f4714e748175fc42d3bcd55cbc8fb7.91a9c99105605821f6d88205ff932a65.f8759c6f\n"
     ]
    }
   ],
   "source": [
    "print(data_objects['data_objects'][0]['urls'][1]['url'])\n",
    "my_url = data_objects['data_objects'][0]['urls'][1]['url']"
   ]
  },
  {
   "cell_type": "code",
   "execution_count": 27,
   "metadata": {},
   "outputs": [
    {
     "name": "stdout",
     "output_type": "stream",
     "text": [
      "Copying gs://org-humancellatlas-dss-checkout-dev/blobs/0e48fdc80be7d661268c38383f770cfdeaa9978d8670a9231ae9950669811b85.f718753375f4714e748175fc42d3bcd55cbc8fb7.91a9c99105605821f6d88205ff932a65.f8759c6f...\n",
      "/ [1 files][  419.0 B/  419.0 B]                                                \n",
      "Operation completed over 1 objects/419.0 B.                                      \n"
     ]
    }
   ],
   "source": [
    "!gsutil cp $my_url myfile.tmp"
   ]
  },
  {
   "cell_type": "code",
   "execution_count": 28,
   "metadata": {},
   "outputs": [
    {
     "name": "stdout",
     "output_type": "stream",
     "text": [
      "{\r\n",
      "  \"describedBy\": \"https://schema.humancellatlas.org/type/file/6.1.1/sequence_file\",\r\n",
      "  \"schema_type\": \"file\",\r\n",
      "  \"file_core\": {\r\n",
      "    \"file_name\": \"R2.fastq.gz\",\r\n",
      "    \"file_format\": \"fastq.gz\"\r\n",
      "  },\r\n",
      "  \"read_index\": \"read2\",\r\n",
      "  \"lane_index\": 1,\r\n",
      "  \"provenance\": {\r\n",
      "    \"document_id\": \"78971d24-b317-4f5b-9c95-e606905414ab\",\r\n",
      "    \"submission_date\": \"2018-07-22T23:38:36.122Z\",\r\n",
      "    \"update_date\": \"2018-07-22T23:39:37.631Z\"\r\n",
      "  }\r\n",
      "}\r\n"
     ]
    }
   ],
   "source": [
    "!cat myfile.tmp"
   ]
  },
  {
   "cell_type": "markdown",
   "metadata": {},
   "source": [
    "## Sign a Data Object\n"
   ]
  },
  {
   "cell_type": "code",
   "execution_count": 29,
   "metadata": {},
   "outputs": [
    {
     "name": "stdout",
     "output_type": "stream",
     "text": [
      "https://storage.googleapis.com/org-humancellatlas-dss-checkout-dev/blobs%2F0e48fdc80be7d661268c38383f770cfdeaa9978d8670a9231ae9950669811b85.f718753375f4714e748175fc42d3bcd55cbc8fb7.91a9c99105605821f6d88205ff932a65.f8759c6f?Expires=1550616619&GoogleAccessId=david4096%40human-cell-atlas-travis-test.iam.gserviceaccount.com&Signature=m4jUw9nw%2BEtIdsgw1A1qtk7FwpuGD8aLIZOygPmbdK8ZE%2F5OjeRWPD1Z2Xw29lzzhWis39%2FmNhY%2BbSAdN1Y5Fhxl5%2FGbVzzun6Yjhsr2Q5tpshp8KmdblpaGKzIDFNHDd9wd1HfY2aSoN2MvNsjEKT08Z4l5SpYMfAqOjRftviR2vj0XneCsXBNl8FtgKgvMr5AWsKmTsVtikTGznEInIEfaXZbbpPELTnXpCv%2BlrkUdbNET9PdAEBn2CAvtwkCiZ6ni9INXdfyXcxd0p0EQt%2BHtALz5N8APcBwwZHeZT5wjkxphMzJ5knsrNgtQeu2%2F3EAzna%2BrysJBWf%2FwrXCHZw%3D%3D\n"
     ]
    }
   ],
   "source": [
    "des_url = \"http://localhost:8080/ga4gh/des/v1/sign\"\n",
    "\n",
    "signed_url = requests.get(\n",
    "    \"{}/{}\".format(des_url, data_objects['data_objects'][0]['id']),\n",
    "    headers=headers)\n",
    "print(signed_url.text)"
   ]
  },
  {
   "cell_type": "code",
   "execution_count": null,
   "metadata": {},
   "outputs": [],
   "source": []
  }
 ],
 "metadata": {
  "kernelspec": {
   "display_name": "drsconn",
   "language": "python",
   "name": "drsconn"
  },
  "language_info": {
   "codemirror_mode": {
    "name": "ipython",
    "version": 2
   },
   "file_extension": ".py",
   "mimetype": "text/x-python",
   "name": "python",
   "nbconvert_exporter": "python",
   "pygments_lexer": "ipython2",
   "version": "2.7.12+"
  }
 },
 "nbformat": 4,
 "nbformat_minor": 2
}
